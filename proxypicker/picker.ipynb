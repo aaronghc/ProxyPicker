{
 "cells": [
  {
   "metadata": {
    "ExecuteTime": {
     "end_time": "2025-01-13T13:09:38.390212Z",
     "start_time": "2025-01-13T13:09:38.388213Z"
    }
   },
   "cell_type": "code",
   "source": [
    "# source proxypicker-env/bin/activate\n",
    "# \n",
    "# cd /Users/jamaman/Documents/GitHub/ProxyPicker/images\n",
    "# \n",
    "# python3 -m http.server\n",
    "# \n",
    "# image_url = \"http://localhost:8000/1.jpg\"\n",
    "\n"
   ],
   "id": "c5d029327e9b4766",
   "outputs": [],
   "execution_count": 1
  },
  {
   "metadata": {
    "ExecuteTime": {
     "end_time": "2025-01-13T13:09:39.382787Z",
     "start_time": "2025-01-13T13:09:38.395954Z"
    }
   },
   "cell_type": "code",
   "source": [
    "%%capture --no-stderr\n",
    "%pip install -U  langgraph"
   ],
   "id": "a6426cd8c495e451",
   "outputs": [],
   "execution_count": 2
  },
  {
   "metadata": {
    "ExecuteTime": {
     "end_time": "2025-01-13T13:09:43.732790Z",
     "start_time": "2025-01-13T13:09:39.465867Z"
    }
   },
   "cell_type": "code",
   "source": [
    "import os, getpass\n",
    "import operator\n",
    "import base64\n",
    "from pydoc import describe\n",
    "\n",
    "import httpx\n",
    "from typing import Annotated\n",
    "from typing_extensions import TypedDict\n",
    "from pydantic import BaseModel, Field\n",
    "from langchain_core.messages import HumanMessage, SystemMessage\n",
    "from langgraph.constants import Send\n",
    "from IPython.display import Image\n",
    "from langgraph.graph import END, StateGraph, START, MessagesState, add_messages\n",
    "from langchain_core.messages import AnyMessage\n",
    "from langchain_openai import ChatOpenAI\n",
    "from typing import List\n",
    "from langgraph.prebuilt import tools_condition\n",
    "from langgraph.prebuilt import ToolNode\n",
    "\n",
    "\n",
    "def _set_env(var: str):\n",
    "    if not os.environ.get(var):\n",
    "        os.environ[var] = getpass.getpass(f\"{var}: \")\n",
    "\n",
    "_set_env(\"OPENAI_API_KEY\")"
   ],
   "id": "9bb733de669b142e",
   "outputs": [],
   "execution_count": 3
  },
  {
   "metadata": {
    "ExecuteTime": {
     "end_time": "2025-01-13T13:09:43.779193Z",
     "start_time": "2025-01-13T13:09:43.742570Z"
    }
   },
   "cell_type": "code",
   "source": "proxy_picker_llm = ChatOpenAI(model=\"gpt-4o-2024-11-20\", temperature=0.1, base_url=\"https://reverse.onechats.top/v1\")",
   "id": "be6b2660d6573af7",
   "outputs": [],
   "execution_count": 4
  },
  {
   "metadata": {
    "ExecuteTime": {
     "end_time": "2025-01-13T13:09:46.116226Z",
     "start_time": "2025-01-13T13:09:43.783703Z"
    }
   },
   "cell_type": "code",
   "source": [
    "_set_env(\"LANGCHAIN_API_KEY\")\n",
    "os.environ[\"LANGCHAIN_TRACING_V2\"] = \"true\"\n",
    "os.environ[\"LANGCHAIN_PROJECT\"] = \"proxy_picker\""
   ],
   "id": "2f68acce3c6c7a7a",
   "outputs": [],
   "execution_count": 5
  },
  {
   "metadata": {
    "ExecuteTime": {
     "end_time": "2025-01-13T13:09:46.131735Z",
     "start_time": "2025-01-13T13:09:46.128693Z"
    }
   },
   "cell_type": "code",
   "source": [
    "object_fetching_prompt = \"\"\"You are an object fetcher. Please carefully inspect and list all visible physical objects in the image(s) of surrounding objects regarding their name and position only, ensuring that no object is overlooked.\"\"\"\n",
    "attribute_extraction_prompt = \"\"\"You are an attribute extracter. Please describe physical properties of the {target_object} with its position in the given picture: {object_position} , in terms of its inertia, interactivity, outline, texture, and hardness\"\"\"\n",
    "interaction_parsing_prompt = \"\"\"You are an interaction parser. Please comprehend the haptic feedback a user should perceive while interacting with the virtual object in terms of interacted virtual object, contacted part, interaction, and external forces based on the given task: {given_task}, and the given picture of the interacted virtual object\"\"\"\n",
    "interaction_exploring_prompt = \"\"\"You are an interaction explorer. Please come up with the most suitable and plausible way of utilizing {target_object} in the given picture ({object_position}) as a haptic proxy of {virtual_object} in virtual reality. When thinking about the interaction possibility, consider the following information carefully, and comprehensively explain how users interact with {target_object} in reality to trigger expected haptic feedbacks.\n",
    "\n",
    "The interaction between users and {virtual_object} in VR: {given_task}\n",
    "\n",
    "Here is the parsed detail of the interaction in VR: {parsed_interaction}\n",
    "\n",
    "Here is the extracted attribute of {target_object}: {extracted_attribute}\"\"\"\n",
    "\n",
    "candidate_evaluation_prompt = \"\"\"You are a haptic proxy evaluator. Your role is to access the suitability of physical objects' interaction possibilities as a haptic proxy for performing the given task in VR. Your evaluation will focus on how well these interaction possibilities simulate the ideal haptic feedback required for the task.\n",
    "\n",
    "Given task in VR: {given_task}\n",
    "Parsed interaction: {parsed_interaction}\n",
    "\n",
    "Please evaluate each physical object's interaction possibility based on the criteria of inertia, interactivity, outline, texture, and hardness. \n",
    "\n",
    "Inertia: How closely the physical object's inertia matches that of the virtual object.\n",
    "Interactivity: How well the physical object facilitates the specific types of interactions required in the virtual environment (e.g., pressing, rotating, sliding, extending).\n",
    "Outline: The closely the physical shape and size of the contact parts resemble the corresponding parts of the virtual object that users would contact and/or interact with.\n",
    "Texture: How well the surface texture of the contact parts mimics the corresponding parts of the virtual object that users would contact and/or interact with.\n",
    "Hardness: How closely the material stiffness of the contact or flexible parts corresponds to interacting with the virtual object.\n",
    "\n",
    "Rate each criterion for the physical object's interaction possibility on a scale of 1 to 7 points, where 1 indicates poor match and 7 indicates excellent match. \n",
    "\n",
    "Provide a grouped justification for the ratings of each physical object, addressing all criteria collectively for the interaction possibilities associated with the object.\n",
    "\n",
    "Interaction possibilities to be evaluated: \\n\\n{interaction_possibilities}\"\"\"\n",
    "\n",
    "# weighted_average_prompt = \"\"\"You are a weighted average calculator. Please calculate each physical object's weighted average (inertia, interactivity, outline, texture, hardness) with respective criteria weights.\n",
    "# \n",
    "# Criteria weights: {criteria_weights}\n",
    "# \n",
    "# Ratings of physical objects: \\n\\n {ratings}\"\"\"\n"
   ],
   "id": "5cad5262b208f60a",
   "outputs": [],
   "execution_count": 6
  },
  {
   "metadata": {
    "ExecuteTime": {
     "end_time": "2025-01-13T13:09:46.179971Z",
     "start_time": "2025-01-13T13:09:46.145657Z"
    }
   },
   "cell_type": "code",
   "source": [
    "physical_url = \"http://localhost:8000/p1.jpg\"\n",
    "image_data = base64.b64encode(httpx.get(physical_url).content).decode(\"utf-8\")\n",
    "prefab_url = \"http://localhost:8000/f1.jpg\"\n",
    "prefab_data = base64.b64encode(httpx.get(prefab_url).content).decode(\"utf-8\")"
   ],
   "id": "2356a9f1ea9a5021",
   "outputs": [],
   "execution_count": 7
  },
  {
   "metadata": {
    "ExecuteTime": {
     "end_time": "2025-01-13T13:09:46.192473Z",
     "start_time": "2025-01-13T13:09:46.184481Z"
    }
   },
   "cell_type": "code",
   "source": [
    "class Proxy(BaseModel):\n",
    "    name: str = Field(description=\"The name of the physical object\")\n",
    "    position: str = Field(description=\"The relative positions of the physical object in the given picture\")\n",
    "    \n",
    "    inertia: str = Field(None, description=\"The physical object's weight or inertia\")\n",
    "    interactivity: str = Field(None, description=\"Types of interactions a user could perform with the physical object, such as pressing, rotating, sliding, extending, or any other purposeful manipulation\")\n",
    "    outline: str = Field(None, description=\"The shape and size of the physical object as well as its subparts\")\n",
    "    texture: str = Field(None, description=\"The surface texture of the physical object as well as its subparts\")\n",
    "    hardness: str = Field(None, description=\"The material stiffness of the physical object as well as its subparts\")\n",
    "    \n",
    "    interaction_possibility: str = Field(None, description=\"Comprehensive explanation of the most suitable way to utilize this physical object as a haptic proxy for the virtual object\")\n",
    "    \n",
    "    @property\n",
    "    def attribute(self) -> str:\n",
    "        return f\"Haptic Proxy: {self.name}\\nPosition: {self.position}\\nInertia: {self.inertia}\\nInteractivity: {self.interactivity}\\nOutline: {self.outline}\\nTexture: {self.texture}\\nHardness: {self.hardness}\"\n",
    "    \n",
    "    @property\n",
    "    def evaluation(self) -> str:\n",
    "        return f\"Physical Object: {self.name}\\nPosition in Given Picture: {self.position}\\nInteraction Possibility: {self.interaction_possibility}\"\n",
    "    \n",
    "class ProxyCandidates(BaseModel):\n",
    "    proxies: List[Proxy] = Field(description=\"Comprehensive list of physical objects in the given picture\")\n",
    "\n",
    "class EvaluatedCandidate(BaseModel):\n",
    "    name: str = Field(description=\"The name of the physical object\")\n",
    "    position: str = Field(description=\"The relative positions of the physical object in the given picture\")   \n",
    "    interaction_possibility: str = Field(description=\"Comprehensive explanation of the most suitable way to utilize this physical object as a haptic proxy for the virtual object\")\n",
    "    \n",
    "    rating_inertia: int = Field(None, description=\"The rating of inertia\")\n",
    "    rating_interactivity: int = Field(None, description=\"The rating of interactivity\")\n",
    "    rating_outline: int = Field(None, description=\"The rating of outline\")\n",
    "    rating_texture: int = Field(None, description=\"The rating of texture\")\n",
    "    rating_hardness: int = Field(None, description=\"The rating of hardness\")\n",
    "    justification: str = Field(None, description=\"The justification for the ratings of five criteria\")\n",
    "    \n",
    "    weighted_average: float = Field(None, description=\"The weighted average of all five ratings\")\n",
    "    \n",
    "    @property\n",
    "    def ratings(self) -> str:\n",
    "        return f\"Physical Object: {self.name}\\nPosition in Given Picture: {self.position}\\nInteraction Possibility: {self.interaction_possibility}\\nRating of Inertia: {self.rating_inertia}\\nRating of Interactivity: {self.rating_interactivity}\\nRating of Outline: {self.rating_outline}\\nRating of Texture: {self.rating_texture}\\nRating of Hardness: {self.rating_hardness}\"\n",
    "    \n",
    "class EvaluatedCandidates(BaseModel):\n",
    "    candidates: List[EvaluatedCandidate] = Field(description=\"List of evaluated candidates with rated inertia, interactivity, outline, texture and hardness\")\n",
    "    \n",
    "class TopCandidates(BaseModel):\n",
    "    top_candidates: List[EvaluatedCandidate] = Field(description=\"List of top 3 candidates with highest weighted average\")\n",
    "\n",
    "class Prefab(BaseModel):\n",
    "    prefab_name: str = Field(description=\"Identify what virtual object the user will grasp and/or interact with to perform the given task\")\n",
    "    contacted_part: str = Field(description=\"Identify which part(s) of the virtual object will be mainly contacted by the user during the interaction\")\n",
    "    involved_interaction: str = Field(description=\"Determine how the virtual object will be interacted by the user\")\n",
    "    external_force: str = Field(description=\"Consider what types of external forces the user might encounter during the interaction\")\n",
    "    \n",
    "    @property\n",
    "    def review(self) -> str:\n",
    "        return f\"The given task is parsed as follow in terms of what haptic feedback a user should perceive while interacting with the virtual object in virtual reality:\\nVirtual Object: {self.prefab_name}\\nForm: {self.contacted_part}\\nInteraction: {self.involved_interaction}\\nExternal Forces: {self.external_force}\"\n",
    "    \n",
    "class OverallState(TypedDict):\n",
    "    given_task: str\n",
    "    \n",
    "    involvement: str\n",
    "    transportability: str\n",
    "    reconfiguration: str\n",
    "    \n",
    "    score_inertia: int\n",
    "    score_interaction: int\n",
    "    score_outline: int\n",
    "    score_texture: int\n",
    "    score_hardness: int\n",
    "\n",
    "    proxies: List[Proxy]\n",
    "    proxy_candidates_complete: Annotated[list, operator.add]\n",
    "    prefab: Prefab\n",
    "    weight_dict: dict\n",
    "    evaluated_candidates: List[EvaluatedCandidate]\n",
    "    \n",
    "class InspectState(TypedDict):\n",
    "    target_object: Proxy\n",
    "    given_task: str\n",
    "    prefab: Prefab\n",
    "    proxy_candidates_complete: List[Proxy]\n",
    "    \n",
    "class InspectOutputState(TypedDict):\n",
    "    proxy_candidates_complete: List[Proxy]\n"
   ],
   "id": "a7d121e8abcd4417",
   "outputs": [],
   "execution_count": 8
  },
  {
   "metadata": {
    "ExecuteTime": {
     "end_time": "2025-01-13T13:09:46.197673Z",
     "start_time": "2025-01-13T13:09:46.196272Z"
    }
   },
   "cell_type": "code",
   "source": [
    "# def calculate_weighted_average(rating_inertia: int, rating_interactivity: int, rating_outline: int, rating_texture: int, rating_hardness: int, weight_inertia: float, weight_interactivity: float, weight_outline: float, weight_texture: float, weight_hardness: float):\n",
    "#     \"\"\"Calculate weighted average.\n",
    "#     \n",
    "#     Args:\n",
    "#         rating_inertia: result of inertia rating\n",
    "#         rating_interactivity: result of interactivity rating\n",
    "#         rating_outline: result of outline rating\n",
    "#         rating_texture: result of texture rating\n",
    "#         rating_hardness: result of hardness rating\n",
    "#         weight_inertia: weight of inertia\n",
    "#         weight_interactivity: weight of interactivity\n",
    "#         weight_outline: weight of outline\n",
    "#         weight_texture: weight of texture\n",
    "#         weight_hardness: weight of hardness\n",
    "#     \"\"\"\n",
    "#     weighted_average =  rating_inertia * weight_inertia + rating_interactivity * weight_interactivity + rating_outline * weight_outline + rating_texture * weight_texture + rating_hardness * weight_hardness\n",
    "#     return weighted_average\n",
    "# \n",
    "# tools = [calculate_weighted_average]\n",
    "# proxy_picker_llm_tools = proxy_picker_llm.bind_tools(tools)"
   ],
   "id": "7bfeb81517c7bea1",
   "outputs": [],
   "execution_count": 9
  },
  {
   "metadata": {
    "ExecuteTime": {
     "end_time": "2025-01-13T13:09:46.204666Z",
     "start_time": "2025-01-13T13:09:46.201363Z"
    }
   },
   "cell_type": "code",
   "source": [
    "def weight_calculator (state: OverallState):\n",
    "    attributes = [\"inertia\", \"interactivity\", \"outline\", \"texture\", \"hardness\"]\n",
    "    ratings = [state[\"score_inertia\"], state[\"score_interaction\"], state[\"score_outline\"], state[\"score_texture\"], state[\"score_hardness\"]]\n",
    "    weights = [rating / sum(ratings) for rating in ratings]\n",
    "    \n",
    "    weighted_attributes = dict(zip(attributes, weights))\n",
    "    return {\"weight_dict\": weighted_attributes}\n",
    "\n",
    "def object_fetcher (state: OverallState):\n",
    "    prompt_system = SystemMessage(content=[object_fetching_prompt])\n",
    "    prompt_human = HumanMessage(content=[\n",
    "        {\n",
    "            \"type\": \"text\",\n",
    "            \"text\": \"image(s) of surrounding objects:\",\n",
    "        },\n",
    "        {\n",
    "            \"type\": \"image_url\",\n",
    "            \"image_url\": {\"url\": f\"data:image/jpeg;base64,{image_data}\"},\n",
    "        }\n",
    "    ])\n",
    "    messages = [prompt_system, prompt_human]\n",
    "    response = proxy_picker_llm.with_structured_output(ProxyCandidates).invoke(messages)\n",
    "    return {\"proxies\": response.proxies} #messages should also be a list : \"messages\": [response]    \n",
    "    \n",
    "def interaction_parser (state: OverallState):\n",
    "    prompt_system = SystemMessage(content=[interaction_parsing_prompt.format(given_task=state[\"given_task\"])])\n",
    "    prompt_human = HumanMessage(content=[\n",
    "        {\n",
    "            \"type\": \"text\",\n",
    "            \"text\": \"image of interacted virtual object:\",\n",
    "        },\n",
    "        {\n",
    "            \"type\": \"image_url\",\n",
    "            \"image_url\": {\"url\": f\"data:image/jpeg;base64,{prefab_data}\"},\n",
    "        }\n",
    "    ])\n",
    "    messages = [prompt_system, prompt_human]\n",
    "    response = proxy_picker_llm.with_structured_output(Prefab).invoke(messages)\n",
    "    return {\"prefab\": response}\n",
    "\n",
    "def candidate_evaluator (state: OverallState):\n",
    "    possibilities = \"\\n\\n\".join(p.evaluation for p in state[\"proxy_candidates_complete\"])\n",
    "    prompt_system = SystemMessage(content=[candidate_evaluation_prompt.format(given_task=state[\"given_task\"], parsed_interaction=state[\"prefab\"].review, interaction_possibilities=possibilities)])\n",
    "    prompt_human = HumanMessage(content=[\n",
    "        {\n",
    "            \"type\": \"text\",\n",
    "            \"text\": \"image(s) of surrounding objects:\",\n",
    "        },\n",
    "        {\n",
    "            \"type\": \"image_url\",\n",
    "            \"image_url\": {\"url\": f\"data:image/jpeg;base64,{image_data}\"},\n",
    "        },\n",
    "        {\n",
    "            \"type\": \"text\",\n",
    "            \"text\": \"image of interacted virtual object:\",\n",
    "        },\n",
    "        {\n",
    "            \"type\": \"image_url\",\n",
    "            \"image_url\": {\"url\": f\"data:image/jpeg;base64,{prefab_data}\"},\n",
    "        }\n",
    "    ])\n",
    "    messages = [prompt_system, prompt_human]\n",
    "    response = proxy_picker_llm.with_structured_output(EvaluatedCandidates).invoke(messages)\n",
    "    return {\"evaluated_candidates\": response.candidates}\n",
    "\n",
    "# def proxy_picker (state: OverallState):\n",
    "#     ratings = \"\\n\\n\".join(r.ratings for r in state[\"evaluated_candidates\"])\n",
    "#     prompt_system = SystemMessage(content=[weighted_average_prompt.format(criteria_weights=state[\"weight_dict\"], ratings=ratings)])\n",
    "#     prompt_human = HumanMessage(content=\"Please return the top 3 candidates with highest total scores. Sort them in descending order of total score.\")\n",
    "#     messages = [prompt_system, prompt_human]\n",
    "#     response = proxy_picker_llm_tools.with_structured_output(TopCandidates).invoke(messages)\n",
    "#     return {\"top_candidates\": response.top_candidates}"
   ],
   "id": "f67fd6084233ab42",
   "outputs": [],
   "execution_count": 10
  },
  {
   "metadata": {
    "ExecuteTime": {
     "end_time": "2025-01-13T13:09:46.210782Z",
     "start_time": "2025-01-13T13:09:46.208112Z"
    }
   },
   "cell_type": "code",
   "source": [
    "def continue_to_attrbute(state: OverallState):\n",
    "    return [Send(\"proxy_inspector\", {\"target_object\": t, \"given_task\": state[\"given_task\"], \"prefab\": state[\"prefab\"]}) for t in state[\"proxies\"]]\n",
    "\n",
    "def attribute_extracter (state: InspectState):\n",
    "    prompt_system = SystemMessage(content=[attribute_extraction_prompt.format(target_object=state[\"target_object\"].name, object_position=state[\"target_object\"].position)])\n",
    "    prompt_human = HumanMessage(content=[\n",
    "        {\n",
    "            \"type\": \"text\",\n",
    "            \"text\": \"image(s) of surrounding objects:\",\n",
    "        },\n",
    "        {\n",
    "            \"type\": \"image_url\",\n",
    "            \"image_url\": {\"url\": f\"data:image/jpeg;base64,{image_data}\"},\n",
    "        }\n",
    "    ])\n",
    "    messages = [prompt_system, prompt_human]\n",
    "    response = proxy_picker_llm.with_structured_output(Proxy).invoke(messages)\n",
    "    return {\"target_object\": response}\n",
    "\n",
    "def interaction_explorer(state: InspectState):\n",
    "    prompt_system = SystemMessage(content=[interaction_exploring_prompt.format(target_object=state[\"target_object\"].name, object_position=state[\"target_object\"].position,  given_task=state[\"given_task\"], virtual_object=state[\"prefab\"].prefab_name, parsed_interaction=state[\"prefab\"].review, extracted_attribute=state[\"target_object\"].attribute)])\n",
    "    prompt_human = HumanMessage(content=[\n",
    "        {\n",
    "            \"type\": \"text\",\n",
    "            \"text\": \"image(s) of surrounding objects:\",\n",
    "        },\n",
    "        {\n",
    "            \"type\": \"image_url\",\n",
    "            \"image_url\": {\"url\": f\"data:image/jpeg;base64,{image_data}\"},\n",
    "        },\n",
    "        {\n",
    "            \"type\": \"text\",\n",
    "            \"text\": \"image of interacted virtual object:\",\n",
    "        },\n",
    "        {\n",
    "            \"type\": \"image_url\",\n",
    "            \"image_url\": {\"url\": f\"data:image/jpeg;base64,{prefab_data}\"},\n",
    "        }\n",
    "    ])\n",
    "    messages = [prompt_system, prompt_human]\n",
    "    response = proxy_picker_llm.with_structured_output(Proxy).invoke(messages)\n",
    "    return {\"proxy_candidates_complete\": [response]}"
   ],
   "id": "413c70d70de03dfc",
   "outputs": [],
   "execution_count": 11
  },
  {
   "metadata": {
    "ExecuteTime": {
     "end_time": "2025-01-13T13:09:47.270078Z",
     "start_time": "2025-01-13T13:09:46.214290Z"
    }
   },
   "cell_type": "code",
   "source": [
    "builder = StateGraph(input=InspectState, output=InspectOutputState)\n",
    "builder.add_node(\"attribute_extracter\", attribute_extracter)\n",
    "builder.add_node(\"interaction_explorer\", interaction_explorer)\n",
    "\n",
    "builder.add_edge(START, \"attribute_extracter\")\n",
    "builder.add_edge(\"attribute_extracter\", \"interaction_explorer\")\n",
    "builder.add_edge(\"interaction_explorer\", END)\n",
    "\n",
    "proxy_inspector = builder.compile()\n",
    "Image(proxy_inspector.get_graph().draw_mermaid_png())"
   ],
   "id": "2216100f464663c7",
   "outputs": [
    {
     "name": "stderr",
     "output_type": "stream",
     "text": [
      "/var/folders/dm/mwc26gqj5kvbzk2nffzh__5m0000gn/T/ipykernel_45770/244596100.py:1: LangGraphDeprecationWarning: Initializing StateGraph without state_schema is deprecated. Please pass in an explicit state_schema instead of just an input and output schema.\n",
      "  builder = StateGraph(input=InspectState, output=InspectOutputState)\n"
     ]
    },
    {
     "data": {
      "image/png": "[encoded data removed]",
      "text/plain": [
       "<IPython.core.display.Image object>"
      ]
     },
     "execution_count": 12,
     "metadata": {},
     "output_type": "execute_result"
    }
   ],
   "execution_count": 12
  },
  {
   "metadata": {
    "ExecuteTime": {
     "end_time": "2025-01-13T13:09:47.338807Z",
     "start_time": "2025-01-13T13:09:47.276854Z"
    }
   },
   "cell_type": "code",
   "source": [
    "graph = StateGraph(OverallState)\n",
    "graph.add_node(\"weight_calculator\", weight_calculator)\n",
    "graph.add_node(\"interaction_parser\", interaction_parser)\n",
    "graph.add_node(\"object_fetcher\", object_fetcher)\n",
    "graph.add_node(\"proxy_inspector\", proxy_inspector)\n",
    "graph.add_node(\"candidate_evaluator\", candidate_evaluator)\n",
    "# graph.add_node(\"proxy_picker\", proxy_picker)\n",
    "# graph.add_node(\"tools\", ToolNode(tools))\n",
    "\n",
    "\n",
    "graph.add_edge(START, \"weight_calculator\")\n",
    "graph.add_edge(\"weight_calculator\", \"interaction_parser\")\n",
    "graph.add_edge(\"interaction_parser\", \"object_fetcher\")\n",
    "graph.add_conditional_edges(\"object_fetcher\", continue_to_attrbute, [\"proxy_inspector\"])\n",
    "graph.add_edge(\"proxy_inspector\", \"candidate_evaluator\")\n",
    "graph.add_edge(\"candidate_evaluator\", END)\n",
    "# graph.add_edge(\"candidate_evaluator\", \"proxy_picker\")\n",
    "# graph.add_conditional_edges(\"proxy_picker\", tools_condition,)\n",
    "# graph.add_edge(\"tools\", \"proxy_picker\")\n",
    "\n",
    "proxy_picker = graph.compile()\n",
    "display(Image(proxy_picker.get_graph(xray=1).draw_mermaid_png()))\n",
    "# Image(proxy_picker.get_graph()(xray=1).draw_mermaid_png())"
   ],
   "id": "261c6793723f937c",
   "outputs": [
    {
     "data": {
      "image/png": "[encoded data removed]",
      "text/plain": [
       "<IPython.core.display.Image object>"
      ]
     },
     "metadata": {},
     "output_type": "display_data"
    }
   ],
   "execution_count": 13
  },
  {
   "metadata": {
    "ExecuteTime": {
     "end_time": "2025-01-13T13:10:23.572365Z",
     "start_time": "2025-01-13T13:09:47.343688Z"
    }
   },
   "cell_type": "code",
   "source": [
    "for s in proxy_picker.stream({\"given_task\": \"scrutinise using binoculars\", \"involvement\": \"grasp\", \"transportability\": \"stationary\", \"reconfiguration\": \"rigid\", \"score_inertia\": 3, \"score_interaction\": 0, \"score_outline\": 5, \"score_texture\": 3, \"score_hardness\": 2}, stream_mode=\"values\"):\n",
    "    # print(s)\n",
    "    weight_dict = s.get('weight_dict', '')\n",
    "    evaluated_candidates = s.get('evaluated_candidates', '')\n",
    "    if evaluated_candidates and weight_dict:\n",
    "        for evaluated_candidate in evaluated_candidates:\n",
    "            evaluated_candidate.weighted_average = (\n",
    "                evaluated_candidate.rating_inertia * weight_dict[\"inertia\"] + \n",
    "                evaluated_candidate.rating_interactivity * weight_dict[\"interactivity\"] +\n",
    "                evaluated_candidate.rating_outline * weight_dict[\"outline\"] + \n",
    "                evaluated_candidate.rating_texture * weight_dict[\"texture\"] +\n",
    "                evaluated_candidate.rating_hardness * weight_dict[\"hardness\"]\n",
    "            )\n",
    "\n",
    "        sorted_candidates = sorted(\n",
    "            evaluated_candidates, key=lambda candidate: candidate.weighted_average, reverse=True\n",
    "        )\n",
    "\n",
    "        print(sorted_candidates[:3])"
   ],
   "id": "a2d37780f7ff9295",
   "outputs": [
    {
     "name": "stdout",
     "output_type": "stream",
     "text": [
      "[EvaluatedCandidate(name='game controller', position='bottom left', interaction_possibility=\"The game controller's ergonomic design and button placement can simulate the grip and interactive elements of binoculars. It can be held in both hands, similar to how binoculars are used.\", rating_inertia=3, rating_interactivity=5, rating_outline=4, rating_texture=3, rating_hardness=4, justification=None, weighted_average=3.5384615384615388), EvaluatedCandidate(name='headphones', position='top left', interaction_possibility=\"The headphones can be held with both hands to simulate the binoculars' grip. The ear cups can mimic the rounded shape of the binocular lenses.\", rating_inertia=4, rating_interactivity=2, rating_outline=3, rating_texture=4, rating_hardness=3, justification=None, weighted_average=3.4615384615384617), EvaluatedCandidate(name='mouse', position='middle left', interaction_possibility='The mouse can be held in one hand and its buttons can simulate some interactive elements of binoculars, but it lacks the dual-hand grip.', rating_inertia=3, rating_interactivity=4, rating_outline=3, rating_texture=4, rating_hardness=3, justification=None, weighted_average=3.230769230769231)]\n"
     ]
    }
   ],
   "execution_count": 14
  },
  {
   "metadata": {
    "ExecuteTime": {
     "end_time": "2025-01-13T13:10:23.645448Z",
     "start_time": "2025-01-13T13:10:23.643697Z"
    }
   },
   "cell_type": "code",
   "source": "# proxy_picker_llm.invoke(\"Hi\")",
   "id": "65d889b696f66d06",
   "outputs": [],
   "execution_count": 15
  },
  {
   "metadata": {
    "ExecuteTime": {
     "end_time": "2025-01-13T13:10:23.662728Z",
     "start_time": "2025-01-13T13:10:23.651956Z"
    }
   },
   "cell_type": "code",
   "source": [
    "# for event in proxy_picker.stream({\"given_task\": \"scrutinise using binoculars\", \"involvement\": \"grasp\", \"transportability\": \"stationary\", \"reconfiguration\": \"rigid\", \"score_inertia\": 3, \"score_interaction\": 0, \"score_outline\": 5, \"score_texture\": 3, \"score_hardness\": 2}): #stream_mode=\"values\"\n",
    "#     # weight_dict = event.get('weight_dict', '')\n",
    "#     # evaluated_candidates = event.get('evaluated_candidates', '')\n",
    "#     print(event)\n",
    "#     # print(\"dict:\" + str(weight_dict))\n",
    "#     # print(evaluated_candidates)\n",
    "#     # if evaluated_candidates and weight_dict:\n",
    "#     #     for evaluated_candidate in evaluated_candidates:\n",
    "#     #         evaluated_candidate.weighted_average = (\n",
    "#     #             evaluated_candidate.rating_inertia * weight_dict[\"inertia\"] + \n",
    "#     #             evaluated_candidate.rating_interactivity * weight_dict[\"interactivity\"] +\n",
    "#     #             evaluated_candidate.rating_outline * weight_dict[\"outline\"] + \n",
    "#     #             evaluated_candidate.rating_texture * weight_dict[\"texture\"] +\n",
    "#     #             evaluated_candidate.rating_hardness * weight_dict[\"hardness\"]\n",
    "#     #         )\n",
    "#     # \n",
    "#     #     sorted_candidates = sorted(\n",
    "#     #         evaluated_candidates, key=lambda candidate: candidate.weighted_average, reverse=True\n",
    "#     #     )\n",
    "#     # \n",
    "#     #     print(sorted_candidates[:3])"
   ],
   "id": "bd5318020ee9a73a",
   "outputs": [],
   "execution_count": 16
  },
  {
   "metadata": {
    "ExecuteTime": {
     "end_time": "2025-01-13T13:10:23.672029Z",
     "start_time": "2025-01-13T13:10:23.670648Z"
    }
   },
   "cell_type": "code",
   "source": "",
   "id": "722ffc14f5c3d5f7",
   "outputs": [],
   "execution_count": null
  }
 ],
 "metadata": {
  "kernelspec": {
   "display_name": "Python 3 (ipykernel)",
   "language": "python",
   "name": "python3"
  },
  "language_info": {
   "codemirror_mode": {
    "name": "ipython",
    "version": 3
   },
   "file_extension": ".py",
   "mimetype": "text/x-python",
   "name": "python",
   "nbconvert_exporter": "python",
   "pygments_lexer": "ipython3",
   "version": "3.11.5"
  }
 },
 "nbformat": 4,
 "nbformat_minor": 5
}
