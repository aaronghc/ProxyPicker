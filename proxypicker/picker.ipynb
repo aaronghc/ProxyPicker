{
 "cells": [
  {
   "metadata": {
    "ExecuteTime": {
     "end_time": "2024-12-18T14:48:38.483192Z",
     "start_time": "2024-12-18T14:48:38.480960Z"
    }
   },
   "cell_type": "code",
   "outputs": [],
   "execution_count": 182,
   "source": [
    "# source proxypicker-env/bin/activate\n",
    "# \n",
    "# cd /Users/jamaman/Documents/GitHub/ProxyPicker/images\n",
    "# \n",
    "# python3 -m http.server\n",
    "# \n",
    "# image_url = \"http://localhost:8000/1.jpg\"\n",
    "\n"
   ],
   "id": "c5d029327e9b4766"
  },
  {
   "metadata": {
    "ExecuteTime": {
     "end_time": "2025-01-02T13:37:55.053342Z",
     "start_time": "2025-01-02T13:37:50.122374Z"
    }
   },
   "cell_type": "code",
   "source": [
    "import os, getpass\n",
    "import operator\n",
    "import base64\n",
    "from pydoc import describe\n",
    "\n",
    "import httpx\n",
    "from typing import Annotated\n",
    "from typing_extensions import TypedDict\n",
    "from pydantic import BaseModel, Field\n",
    "from langchain_core.messages import HumanMessage, SystemMessage\n",
    "from langgraph.constants import Send\n",
    "from IPython.display import Image\n",
    "from langgraph.graph import END, StateGraph, START, MessagesState, add_messages\n",
    "from langchain_core.messages import AnyMessage\n",
    "from langchain_openai import ChatOpenAI\n",
    "from typing import List\n",
    "\n",
    "\n",
    "def _set_env(var: str):\n",
    "    if not os.environ.get(var):\n",
    "        os.environ[var] = getpass.getpass(f\"{var}: \")\n",
    "\n",
    "_set_env(\"OPENAI_API_KEY\")"
   ],
   "id": "9bb733de669b142e",
   "outputs": [],
   "execution_count": 1
  },
  {
   "metadata": {
    "ExecuteTime": {
     "end_time": "2025-01-02T13:37:56.577204Z",
     "start_time": "2025-01-02T13:37:56.541332Z"
    }
   },
   "cell_type": "code",
   "source": "proxy_picker_llm = ChatOpenAI(model=\"gpt-4o-mini\", temperature=0.2, base_url=\"https://reverse.onechats.top/v1\")",
   "id": "be6b2660d6573af7",
   "outputs": [],
   "execution_count": 2
  },
  {
   "metadata": {
    "ExecuteTime": {
     "end_time": "2025-01-02T13:38:01.371153Z",
     "start_time": "2025-01-02T13:37:57.422424Z"
    }
   },
   "cell_type": "code",
   "source": [
    "_set_env(\"LANGCHAIN_API_KEY\")\n",
    "os.environ[\"LANGCHAIN_TRACING_V2\"] = \"true\"\n",
    "os.environ[\"LANGCHAIN_PROJECT\"] = \"proxy_picker\""
   ],
   "id": "2f68acce3c6c7a7a",
   "outputs": [],
   "execution_count": 3
  },
  {
   "metadata": {
    "ExecuteTime": {
     "end_time": "2025-01-02T13:38:02.959678Z",
     "start_time": "2025-01-02T13:38:02.957043Z"
    }
   },
   "cell_type": "code",
   "source": [
    "object_fetching_prompt = \"You are an object fetcher. Please carefully inspect and list all visible physical objects in the image(s) of surrounding objects regarding their name and position only, ensuring that no object is overlooked.\"\n",
    "attribute_extraction_prompt = \"You are an attribute extracter. Please describe physical properties of the {target_object} with its position in the given picture: {object_position} , in terms of its inertia, interactivity, outline, texture, and hardness\"\n",
    "interaction_parsing_prompt = \"You are an interaction parser. Please comprehend the interaction between a VR user and a virtual object in terms of interacted virtual object, contacted part, interaction, and external forces based on the given task: {given_task}, and the given picture of the interacted virtual object\"\n",
    "interaction_classification_prompt = \"\"\n",
    "candidate_evaluation_prompt = \"\""
   ],
   "id": "5cad5262b208f60a",
   "outputs": [],
   "execution_count": 4
  },
  {
   "metadata": {
    "ExecuteTime": {
     "end_time": "2025-01-02T13:38:03.832609Z",
     "start_time": "2025-01-02T13:38:03.794473Z"
    }
   },
   "cell_type": "code",
   "source": [
    "physical_url = \"http://localhost:8000/p1.jpg\"\n",
    "image_data = base64.b64encode(httpx.get(physical_url).content).decode(\"utf-8\")\n",
    "\n",
    "prefab_url = \"http://localhost:8000/f1.jpg\"\n",
    "prefab_data = base64.b64encode(httpx.get(physical_url).content).decode(\"utf-8\")"
   ],
   "id": "b8324e7505af3589",
   "outputs": [],
   "execution_count": 5
  },
  {
   "metadata": {
    "ExecuteTime": {
     "end_time": "2025-01-02T14:23:16.522251Z",
     "start_time": "2025-01-02T14:23:16.515559Z"
    }
   },
   "cell_type": "code",
   "source": [
    "class Proxy(BaseModel):\n",
    "    name: str = Field(description=\"The name of the physical object\")\n",
    "    position: str = Field(description=\"The relative positions of the physical object in the given picture\")\n",
    "    \n",
    "    inertia: str = Field(None, description=\"The physical object's weight or inertia\")\n",
    "    interactivity: str = Field(None, description=\"Types of interactions a user could perform with the physical object, such as pressing, rotating, sliding, extending, or any other purposeful manipulation\")\n",
    "    outline: str = Field(None, description=\"The shape and size of the physical object as well as its subparts\")\n",
    "    texture: str = Field(None, description=\"The surface texture of the physical object as well as its subparts\")\n",
    "    hardness: str = Field(None, description=\"The material stiffness of the physical object as well as its subparts\")\n",
    "    \n",
    "    @property\n",
    "    def attribute(self) -> str:\n",
    "        return f\"Haptic Proxy: {self.name}\\nPosition: {self.position}\\nInertia: {self.inertia}\\nInteractivity: {self.interactivity}\\nOutline: {self.outline}\\nTexture: {self.texture}\\nHardness: {self.hardness}\"\n",
    "    \n",
    "class ProxyCandidates(BaseModel):\n",
    "    proxies: List[Proxy] = Field(description=\"Comprehensive list of physical objects in the given picture\")\n",
    "\n",
    "\n",
    "    \n",
    "    \n",
    "class OverallState(MessagesState):\n",
    "    given_task: str\n",
    "    contact: str\n",
    "    transportability: str\n",
    "    reconfiguration: str\n",
    "    score_inertia: int\n",
    "    score_interaction: int\n",
    "    score_outline: int\n",
    "    score_texture: int\n",
    "    score_hardness: int\n",
    "    weight_dict: dict\n",
    "    \n",
    "    proxies: List[Proxy]\n",
    "    proxy_candidates: Annotated[list, operator.add]\n",
    "    parsed_interacted_virtual_object: str\n",
    "    parsed_contacted_part: str\n",
    "    parsed_interaction: str\n",
    "    parsed_external_force: str\n",
    "\n",
    "class InteractionParsing(BaseModel):\n",
    "    interacted_virtual_object: str = Field(description=\"Identify what virtual object the user will grasp and/or interact with to perform the given task\")\n",
    "    contacted_part: str = Field(description=\"Identify which part(s) of the virtual object will be mainly contacted by the user during the task\")\n",
    "    interaction: str = Field(description=\"Determine how the virtual object will be interacted by the user\")\n",
    "    external_force: str = Field(description=\"Consider what types of external forces the user might encounter while performing the given task\")\n",
    "    \n",
    "class AttributeState(OverallState):\n",
    "    target_object: Proxy\n"
   ],
   "id": "a7d121e8abcd4417",
   "outputs": [],
   "execution_count": 35
  },
  {
   "metadata": {
    "ExecuteTime": {
     "end_time": "2025-01-02T14:23:16.925443Z",
     "start_time": "2025-01-02T14:23:16.921975Z"
    }
   },
   "cell_type": "code",
   "source": [
    "def weight_calculator (state: OverallState):\n",
    "    attributes = [\"inertia\", \"interactivity\", \"outline\", \"texture\", \"hardness\"]\n",
    "    ratings = [state[\"score_inertia\"], state[\"score_interaction\"], state[\"score_outline\"], state[\"score_texture\"], state[\"score_hardness\"]]\n",
    "    weights = [rating / sum(ratings) for rating in ratings]\n",
    "    \n",
    "    weighted_attributes = dict(zip(attributes, weights))\n",
    "    return {\"weight_dict\": weighted_attributes}\n",
    "\n",
    "def object_fetcher (state: OverallState):\n",
    "    prompt_system = SystemMessage(content=[object_fetching_prompt])\n",
    "    prompt_human = HumanMessage(content=[\n",
    "        {\n",
    "            \"type\": \"text\",\n",
    "            \"text\": \"image(s) of surrounding objects:\",\n",
    "        },\n",
    "        {\n",
    "            \"type\": \"image_url\",\n",
    "            \"image_url\": {\"url\": f\"data:image/jpeg;base64,{image_data}\"},\n",
    "        }\n",
    "    ])\n",
    "    messages = [prompt_system, prompt_human]\n",
    "    response = proxy_picker_llm.with_structured_output(ProxyCandidates).invoke(messages)\n",
    "    return {\"proxies\": response.proxies} #messages should also be a list : \"messages\": [response]\n",
    "\n",
    "def continue_to_attrbute(state: OverallState):\n",
    "    return [Send(\"attribute_extracter\", {\"target_object\": t}) for t in state[\"proxies\"]]\n",
    "\n",
    "def attribute_extracter (state: AttributeState):\n",
    "    prompt = HumanMessage(content=[\n",
    "        {\n",
    "            \"type\": \"text\",\n",
    "            \"text\": attribute_extraction_prompt.format(target_object=state[\"target_object\"].name, object_position=state[\"target_object\"].position),\n",
    "        },\n",
    "        {\n",
    "            \"type\": \"image_url\",\n",
    "            \"image_url\": {\"url\": f\"data:image/jpeg;base64,{image_data}\"},\n",
    "        }\n",
    "    ])\n",
    "    response = proxy_picker_llm.with_structured_output(ProxyCandidates).invoke([prompt])\n",
    "    return {\"proxy_candidates\": [response]}\n",
    "\n",
    "def interaction_parser (state: OverallState):\n",
    "    prompt = HumanMessage(content=[\n",
    "        {\n",
    "            \"type\": \"text\",\n",
    "            \"text\": interaction_parsing_prompt.format(given_task=state[\"given_task\"]),\n",
    "        },\n",
    "        {\n",
    "            \"type\": \"image_url\",\n",
    "            \"image_url\": {\"url\": f\"data:image/jpeg;base64,{prefab_data}\"},\n",
    "        }\n",
    "    ])\n",
    "    response = proxy_picker_llm.with_structured_output(InteractionParsing).invoke([prompt])\n",
    "    return {\"parsed_interacted_virtual_object\": response.interacted_virtual_object, \"parsed_contacted_part\": response.contacted_part, \"parsed_interaction\": response.interaction, \"parsed_external_force\": response.external_force}"
   ],
   "id": "f67fd6084233ab42",
   "outputs": [],
   "execution_count": 36
  },
  {
   "metadata": {
    "ExecuteTime": {
     "end_time": "2025-01-02T14:23:17.401218Z",
     "start_time": "2025-01-02T14:23:17.315219Z"
    }
   },
   "cell_type": "code",
   "source": [
    "graph = StateGraph(OverallState)\n",
    "graph.add_node(\"weight_calculator\", weight_calculator)\n",
    "graph.add_node(\"object_fetcher\", object_fetcher)\n",
    "graph.add_node(\"attribute_extracter\", attribute_extracter)\n",
    "graph.add_node(\"interaction_parser\", interaction_parser)\n",
    "\n",
    "graph.add_edge(START, \"weight_calculator\")\n",
    "graph.add_edge(\"weight_calculator\", \"object_fetcher\")\n",
    "graph.add_edge(\"weight_calculator\", \"interaction_parser\")\n",
    "graph.add_conditional_edges(\"object_fetcher\", continue_to_attrbute, [\"attribute_extracter\"])\n",
    "# graph.add_edge(\"attribute_extracter\", END)\n",
    "\n",
    "proxy_picker = graph.compile()\n",
    "Image(proxy_picker.get_graph().draw_mermaid_png())"
   ],
   "id": "261c6793723f937c",
   "outputs": [
    {
     "data": {
      "image/png": "[encoded data removed]",
      "text/plain": [
       "<IPython.core.display.Image object>"
      ]
     },
     "execution_count": 37,
     "metadata": {},
     "output_type": "execute_result"
    }
   ],
   "execution_count": 37
  },
  {
   "metadata": {
    "ExecuteTime": {
     "end_time": "2025-01-02T14:23:37.566782Z",
     "start_time": "2025-01-02T14:23:17.744013Z"
    }
   },
   "cell_type": "code",
   "source": [
    "for s in proxy_picker.stream({\"given_task\": \"scrutinise using binoculars\", \"involvement\": \"grasp\", \"transportability\": \"stationary\", \"reconfiguration\": \"rigid\", \"score_inertia\": 3, \"score_interaction\": 0, \"score_outline\": 5, \"score_texture\": 3, \"score_hardness\": 2}):\n",
    "    print(s)"
   ],
   "id": "a2d37780f7ff9295",
   "outputs": [
    {
     "name": "stdout",
     "output_type": "stream",
     "text": [
      "{'weight_calculator': {'weight_dict': {'inertia': 0.23076923076923078, 'interactivity': 0.0, 'outline': 0.38461538461538464, 'texture': 0.23076923076923078, 'hardness': 0.15384615384615385}}}\n",
      "{'interaction_parser': {'parsed_interacted_virtual_object': 'binoculars', 'parsed_contacted_part': 'eyes', 'parsed_interaction': 'scrutinise', 'parsed_external_force': 'gravity, hand movement'}}\n",
      "{'object_fetcher': {'proxies': [Proxy(name='headphones', position='top left', inertia=None, interactivity=None, outline=None, texture=None, hardness=None), Proxy(name='fitness tracker', position='top center', inertia=None, interactivity=None, outline=None, texture=None, hardness=None), Proxy(name='computer mouse', position='top center right', inertia=None, interactivity=None, outline=None, texture=None, hardness=None), Proxy(name='charging cable', position='top center right, near the mouse', inertia=None, interactivity=None, outline=None, texture=None, hardness=None), Proxy(name='metal mug', position='top right', inertia=None, interactivity=None, outline=None, texture=None, hardness=None), Proxy(name='face mask', position='middle left', inertia=None, interactivity=None, outline=None, texture=None, hardness=None), Proxy(name='remote control', position='middle center', inertia=None, interactivity=None, outline=None, texture=None, hardness=None), Proxy(name='guitar pick', position='middle right', inertia=None, interactivity=None, outline=None, texture=None, hardness=None), Proxy(name='nail clipper', position='middle right, near the guitar pick', inertia=None, interactivity=None, outline=None, texture=None, hardness=None), Proxy(name='duck lamp', position='middle right, below the guitar pick and nail clipper', inertia=None, interactivity=None, outline=None, texture=None, hardness=None), Proxy(name='sticky note', position='middle left, below the face mask', inertia=None, interactivity=None, outline=None, texture=None, hardness=None), Proxy(name='game controller', position='bottom center', inertia=None, interactivity=None, outline=None, texture=None, hardness=None), Proxy(name='scissors', position='bottom right', inertia=None, interactivity=None, outline=None, texture=None, hardness=None), Proxy(name='pen', position='bottom left', inertia=None, interactivity=None, outline=None, texture=None, hardness=None), Proxy(name='crumpled paper', position='bottom left, near the pen', inertia=None, interactivity=None, outline=None, texture=None, hardness=None), Proxy(name='black object (possibly a phone stand or similar)', position='bottom right, near the scissors', inertia=None, interactivity=None, outline=None, texture=None, hardness=None)]}}\n",
      "{'attribute_extracter': {'proxy_candidates': [ProxyCandidates(proxies=[Proxy(name='remote control', position='middle center', inertia='moderate', interactivity='pressing buttons, sliding, rotating knobs', outline='rectangular with rounded edges', texture='smooth plastic', hardness='medium')])]}}\n",
      "{'attribute_extracter': {'proxy_candidates': [ProxyCandidates(proxies=[Proxy(name='guitar pick', position='middle right', inertia='low', interactivity='can be pressed or flicked', outline='triangular shape', texture='smooth', hardness='medium')])]}}\n",
      "{'attribute_extracter': {'proxy_candidates': [ProxyCandidates(proxies=[Proxy(name='headphones', position='top left', inertia='moderate', interactivity='wearing, adjusting volume', outline='over-ear design with a padded headband', texture='smooth plastic with soft leatherette ear cushions', hardness='soft')])]}}\n",
      "{'attribute_extracter': {'proxy_candidates': [ProxyCandidates(proxies=[Proxy(name='nail clipper', position='middle right, near the guitar pick', inertia='moderate', interactivity='pressing, sliding', outline='small, curved with a lever', texture='smooth metal surface', hardness='hard metal')])]}}\n",
      "{'attribute_extracter': {'proxy_candidates': [ProxyCandidates(proxies=[Proxy(name='fitness tracker', position='top center', inertia='light', interactivity='worn on wrist, buttons for interaction', outline='rectangular with rounded edges', texture='smooth plastic', hardness='medium')])]}}\n",
      "{'attribute_extracter': {'proxy_candidates': [ProxyCandidates(proxies=[Proxy(name='sticky note', position='middle left, below the face mask', inertia='lightweight', interactivity='can be easily pressed, written on, or removed', outline='square or rectangular', texture='smooth surface', hardness='soft')])]}}\n",
      "{'attribute_extracter': {'proxy_candidates': [ProxyCandidates(proxies=[Proxy(name='game controller', position='bottom center', inertia='moderate', interactivity='pressing buttons, moving joysticks', outline='ergonomic, with rounded edges and grips', texture='smooth plastic with some textured grips', hardness='medium')])]}}\n",
      "{'attribute_extracter': {'proxy_candidates': [ProxyCandidates(proxies=[Proxy(name='pen', position='bottom left', inertia='lightweight', interactivity='can be pressed and written with', outline='long cylindrical shape', texture='smooth surface', hardness='medium')])]}}\n",
      "{'attribute_extracter': {'proxy_candidates': [ProxyCandidates(proxies=[Proxy(name='face mask', position='middle left', inertia='lightweight', interactivity='none (passive object)', outline='rectangular with rounded edges', texture='soft, fabric-like', hardness='soft')])]}}\n",
      "{'attribute_extracter': {'proxy_candidates': [ProxyCandidates(proxies=[Proxy(name='charging cable', position='top center right, near the mouse', inertia='lightweight', interactivity='flexible, can be bent or twisted', outline='long and thin, cylindrical shape', texture='smooth surface', hardness='soft')])]}}\n",
      "{'attribute_extracter': {'proxy_candidates': [ProxyCandidates(proxies=[Proxy(name='computer mouse', position='top center right', inertia='lightweight', interactivity='clicking, scrolling, moving', outline='ergonomic, rounded shape', texture='smooth plastic surface', hardness='medium')])]}}\n",
      "{'attribute_extracter': {'proxy_candidates': [ProxyCandidates(proxies=[Proxy(name='scissors', position='bottom right', inertia='moderate', interactivity='pressing, cutting', outline='two blades with handles, typically symmetrical', texture='smooth metal blades, plastic handles', hardness='hard metal blades, softer plastic handles')])]}}\n",
      "{'attribute_extracter': {'proxy_candidates': [ProxyCandidates(proxies=[Proxy(name='metal mug', position='top right', inertia='moderate', interactivity='can be held, lifted, and tilted', outline='cylindrical with a handle', texture='smooth and metallic', hardness='hard')])]}}\n",
      "{'attribute_extracter': {'proxy_candidates': [ProxyCandidates(proxies=[Proxy(name='duck lamp', position='middle right, below the guitar pick and nail clipper', inertia='lightweight', interactivity='can be turned on or off, possibly adjustable brightness', outline='rounded body with a duck-like shape, featuring a head and two legs', texture='smooth plastic surface', hardness='soft to the touch, not rigid')])]}}\n",
      "{'attribute_extracter': {'proxy_candidates': [ProxyCandidates(proxies=[Proxy(name='crumpled paper', position='bottom left, near the pen', inertia='low', interactivity='can be pressed or crumpled further', outline='irregular, crumpled shape', texture='wrinkled, rough surface', hardness='soft')])]}}\n",
      "{'attribute_extracter': {'proxy_candidates': [ProxyCandidates(proxies=[Proxy(name='black object', position='bottom right, near the scissors', inertia='moderate', interactivity='can be pressed or adjusted', outline='rectangular with rounded edges', texture='smooth', hardness='medium')])]}}\n"
     ]
    }
   ],
   "execution_count": 38
  },
  {
   "metadata": {
    "ExecuteTime": {
     "end_time": "2024-12-30T14:38:52.967836Z",
     "start_time": "2024-12-30T14:38:52.966515Z"
    }
   },
   "cell_type": "code",
   "source": "",
   "id": "30831b6200d7fcf9",
   "outputs": [],
   "execution_count": null
  },
  {
   "metadata": {},
   "cell_type": "code",
   "outputs": [],
   "execution_count": null,
   "source": "",
   "id": "67978b8c1c22d108"
  }
 ],
 "metadata": {
  "kernelspec": {
   "display_name": "Python 3 (ipykernel)",
   "language": "python",
   "name": "python3"
  },
  "language_info": {
   "codemirror_mode": {
    "name": "ipython",
    "version": 3
   },
   "file_extension": ".py",
   "mimetype": "text/x-python",
   "name": "python",
   "nbconvert_exporter": "python",
   "pygments_lexer": "ipython3",
   "version": "3.11.5"
  }
 },
 "nbformat": 4,
 "nbformat_minor": 5
}
