{
 "cells": [
  {
   "metadata": {
    "ExecuteTime": {
     "end_time": "2024-11-17T13:53:02.438382Z",
     "start_time": "2024-11-17T13:53:02.434722Z"
    }
   },
   "cell_type": "code",
   "source": [
    "import os, getpass\n",
    "\n",
    "def _set_env(var: str):\n",
    "    if not os.environ.get(var):\n",
    "        os.environ[var] = getpass.getpass(f\"{var}: \")\n",
    "\n",
    "_set_env(\"OPENAI_API_KEY\")"
   ],
   "id": "089ffaf0-c503-418b-9c46-7e471dbbad4b",
   "outputs": [],
   "execution_count": 7
  },
  {
   "metadata": {
    "ExecuteTime": {
     "end_time": "2024-11-17T13:53:03.840495Z",
     "start_time": "2024-11-17T13:53:03.822650Z"
    }
   },
   "cell_type": "code",
   "source": [
    "from langchain_openai import ChatOpenAI\n",
    "proxy_picker_llm = ChatOpenAI(model=\"gpt-4o-mini\", temperature=0.2, base_url=\"https://reverse.onechats.top/v1\")"
   ],
   "id": "162e6e3ea5a7ba17",
   "outputs": [],
   "execution_count": 8
  },
  {
   "metadata": {
    "ExecuteTime": {
     "end_time": "2024-11-17T13:53:04.634201Z",
     "start_time": "2024-11-17T13:53:04.631867Z"
    }
   },
   "cell_type": "code",
   "source": [
    "_set_env(\"LANGCHAIN_API_KEY\")\n",
    "os.environ[\"LANGCHAIN_TRACING_V2\"] = \"true\"\n",
    "os.environ[\"LANGCHAIN_PROJECT\"] = \"proxy_picker\""
   ],
   "id": "5c9c4433-e5d9-48f2-9bab-69aacf65a145",
   "outputs": [],
   "execution_count": 9
  },
  {
   "metadata": {},
   "cell_type": "code",
   "outputs": [],
   "execution_count": null,
   "source": [
    "object_fetching_prompt = \"\"\n",
    "attribute_extraction_prompt = \"\"\n",
    "interaction_parsing_prompt = \"\"\n",
    "interaction_classification_prompt = \"\"\n",
    "candidate_evaluation_prompt = \"\""
   ],
   "id": "da3b48e5aa930d21"
  },
  {
   "metadata": {
    "ExecuteTime": {
     "end_time": "2024-11-17T16:09:56.929846Z",
     "start_time": "2024-11-17T16:09:50.001879Z"
    }
   },
   "cell_type": "code",
   "source": [
    "from langchain_core.messages import HumanMessage\n",
    "import base64\n",
    "import httpx\n",
    "\n",
    "image_url = \"http://localhost:8000/1.jpg\"\n",
    "#run the following command in the terminal for accessing local images\n",
    "#cd /Users/jamaman/Documents/GitHub/ProxyPicker/images\n",
    "#python3 -m http.server\n",
    "\n",
    "image_data = base64.b64encode(httpx.get(image_url).content).decode(\"utf-8\")\n",
    "\n",
    "message = HumanMessage(\n",
    "    content=[\n",
    "        {\"type\": \"text\", \"text\": \"describe the content in this image\"},\n",
    "        {\n",
    "            \"type\": \"image_url\",\n",
    "            \"image_url\": {\"url\": f\"data:image/jpeg;base64,{image_data}\"},\n",
    "        },\n",
    "    ],\n",
    ")\n",
    "response = proxy_picker_llm.invoke([message])\n",
    "print(response.content)"
   ],
   "id": "8a0998246a135cd",
   "outputs": [
    {
     "name": "stdout",
     "output_type": "stream",
     "text": [
      "The image features a variety of items arranged on a flat surface. Here’s a description of the contents:\n",
      "\n",
      "1. **Headphones**: A pair of over-ear headphones with a light brown cushion.\n",
      "2. **Fitness Tracker**: A black wristband device, likely a fitness tracker.\n",
      "3. **Mouse**: A black computer mouse with a glowing logo.\n",
      "4. **Cup**: A metallic cup with a reflective surface, partially filled with liquid.\n",
      "5. **Face Mask**: A white disposable face mask.\n",
      "6. **Remote Control**: A white remote control with buttons and a digital display.\n",
      "7. **Guitar Pick**: A red guitar pick.\n",
      "8. **Duck Lamp**: A small, white duck-shaped lamp with yellow feet.\n",
      "9. **Sticky Notes**: A green sticky note pad.\n",
      "10. **Scissors**: A pair of white-handled scissors.\n",
      "11. **Game Controller**: A gray game controller, likely for a gaming console.\n",
      "12. **Pen**: A black pen.\n",
      "13. **Tissue**: A crumpled tissue.\n",
      "14. **Black Folder**: A small black folder or case.\n",
      "\n",
      "These items suggest a workspace or a casual environment, possibly for gaming or studying.\n"
     ]
    }
   ],
   "execution_count": 43
  },
  {
   "metadata": {},
   "cell_type": "code",
   "outputs": [],
   "execution_count": null,
   "source": "",
   "id": "30831b6200d7fcf9"
  }
 ],
 "metadata": {
  "kernelspec": {
   "display_name": "Python 3 (ipykernel)",
   "language": "python",
   "name": "python3"
  },
  "language_info": {
   "codemirror_mode": {
    "name": "ipython",
    "version": 3
   },
   "file_extension": ".py",
   "mimetype": "text/x-python",
   "name": "python",
   "nbconvert_exporter": "python",
   "pygments_lexer": "ipython3",
   "version": "3.11.5"
  }
 },
 "nbformat": 4,
 "nbformat_minor": 5
}
