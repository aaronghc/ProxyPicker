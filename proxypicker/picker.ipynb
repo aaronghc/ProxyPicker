{
 "cells": [
  {
   "metadata": {
    "ExecuteTime": {
     "end_time": "2025-01-15T05:46:40.266966Z",
     "start_time": "2025-01-15T05:46:40.263651Z"
    }
   },
   "cell_type": "code",
   "source": [
    "# source proxypicker-env/bin/activate\n",
    "# \n",
    "# cd /Users/jamaman/Documents/GitHub/ProxyPicker/images\n",
    "# \n",
    "# python3 -m http.server\n",
    "# "
   ],
   "id": "c5d029327e9b4766",
   "outputs": [],
   "execution_count": 16
  },
  {
   "metadata": {
    "ExecuteTime": {
     "end_time": "2025-01-15T05:46:41.357052Z",
     "start_time": "2025-01-15T05:46:40.288939Z"
    }
   },
   "cell_type": "code",
   "source": [
    "%%capture --no-stderr\n",
    "%pip install -U  langgraph"
   ],
   "id": "a6426cd8c495e451",
   "outputs": [],
   "execution_count": 17
  },
  {
   "metadata": {
    "ExecuteTime": {
     "end_time": "2025-01-15T05:46:41.368718Z",
     "start_time": "2025-01-15T05:46:41.365539Z"
    }
   },
   "cell_type": "code",
   "source": [
    "import os, getpass\n",
    "import operator\n",
    "import base64\n",
    "\n",
    "import httpx\n",
    "from typing import Optional\n",
    "from typing_extensions import Annotated, TypedDict\n",
    "from pydantic import BaseModel, Field\n",
    "from langchain_core.messages import HumanMessage, SystemMessage\n",
    "from langgraph.constants import Send\n",
    "from IPython.display import Image\n",
    "from langgraph.graph import END, StateGraph, START\n",
    "from langchain_openai import ChatOpenAI\n",
    "from typing import List\n",
    "\n",
    "\n",
    "def _set_env(var: str):\n",
    "    if not os.environ.get(var):\n",
    "        os.environ[var] = getpass.getpass(f\"{var}: \")\n",
    "\n",
    "_set_env(\"OPENAI_API_KEY\")"
   ],
   "id": "9bb733de669b142e",
   "outputs": [],
   "execution_count": 18
  },
  {
   "metadata": {
    "ExecuteTime": {
     "end_time": "2025-01-15T05:46:41.417905Z",
     "start_time": "2025-01-15T05:46:41.383823Z"
    }
   },
   "cell_type": "code",
   "source": "proxy_picker_llm = ChatOpenAI(model=\"gpt-4o-2024-11-20\", temperature=0.1, base_url=\"https://reverse.onechats.top/v1\")",
   "id": "be6b2660d6573af7",
   "outputs": [],
   "execution_count": 19
  },
  {
   "metadata": {
    "ExecuteTime": {
     "end_time": "2025-01-15T05:46:41.424993Z",
     "start_time": "2025-01-15T05:46:41.423454Z"
    }
   },
   "cell_type": "code",
   "source": [
    "_set_env(\"LANGCHAIN_API_KEY\")\n",
    "os.environ[\"LANGCHAIN_TRACING_V2\"] = \"true\"\n",
    "os.environ[\"LANGCHAIN_PROJECT\"] = \"proxy_picker\""
   ],
   "id": "2f68acce3c6c7a7a",
   "outputs": [],
   "execution_count": 20
  },
  {
   "metadata": {
    "ExecuteTime": {
     "end_time": "2025-01-15T05:46:41.434444Z",
     "start_time": "2025-01-15T05:46:41.432445Z"
    }
   },
   "cell_type": "code",
   "source": [
    "interaction_parsing_prompt = \"\"\"You are an interaction parser. Please analyze and interpret the haptic feedback a user should perceive while interacting with the virtual object during the given task.\n",
    " \n",
    " Given task: {given_task}\n",
    " \n",
    " Provide a detailed analysis of the following aspects based on the given task and the provided picture of the virtual object:\n",
    " \n",
    " 1. Interacted Virtual Object\n",
    " 2. Contacted Part\n",
    " 3. Involved Interaction\n",
    " 4. External Forces\"\"\"\n",
    "\n",
    "object_fetching_prompt = \"\"\"You are an object fetcher. Please carefully inspect and list all visible physical objects in the image(s) of surrounding objects regarding their names and position, ensuring that no object is overlooked.\"\"\"\n",
    "\n",
    "attribute_extraction_prompt = \"\"\"You are an attribute extracter. Please describe a specified physical object in detail regarding its characteristics relevant to haptic feedback.\n",
    "\n",
    "Specified object: {target_object}\n",
    "Position in image: {object_position}\n",
    "\n",
    "Your description should focus on the following criteria:\n",
    "\n",
    "1. Inertia: \n",
    "    * Describe the object's weight and how it feels when held\n",
    "    * Comment on whether the weight distribution is balanced or uneven\n",
    "    \n",
    "2. Interactivity:\n",
    "    * Identify the ways in which the object can be interacted with (e.g., pressing, rotating, sliding, extending, squeezing)\n",
    "    * Describe any movable or functional parts, such as buttons, hinges, sliders, or extendable sections.\n",
    "\n",
    "3. Outline:\n",
    "    * Provide a description of the object's shape, size, and dimensions.\n",
    "    * Note any prominent features, edges, curves, or contact surfaces that would be relevant for contacting or interacting with the object.\n",
    "\n",
    "4. Texture:\n",
    "    * Describe the surface texture of the object, including whether it is smooth, rough, grainy, or patterned.\n",
    "    * Note any variations in texture across different parts of the object.\n",
    "    \n",
    "5. Hardness:\n",
    "    * Note any areas of the object that deform under pressure or retain their shape.\n",
    "    * Comment on whether the hardness is uniform throughout the object or varies in different sections\"\"\"\n",
    "\n",
    "interaction_exploring_prompt = \"\"\"You are an interaction explorer. Please come up with the most suitable and plausible way of utilizing {target_object} in the given picture ({object_position}) as a haptic proxy of {virtual_object} in virtual reality. When thinking about the interaction possibility, consider the following information carefully, and comprehensively explain how users interact with {target_object} in reality to trigger expected haptic feedbacks.\n",
    "\n",
    "The interaction between users and {virtual_object} in VR: {given_task}\n",
    "\n",
    "Here is the parsed detail of the interaction in VR: {parsed_interaction}\n",
    "\n",
    "Here is the extracted attribute of {target_object}: {extracted_attribute}\"\"\"\n",
    "\n",
    "candidate_evaluation_prompt = \"\"\"You are a haptic proxy evaluator. Your role is to access the suitability of physical objects' interaction possibilities as a haptic proxy for performing the given task in VR. Your evaluation will focus on how well these interaction possibilities simulate the ideal haptic feedback required for the task.\n",
    "\n",
    "Given task in VR: {given_task}\n",
    "Parsed interaction: {parsed_interaction}\n",
    "\n",
    "Please evaluate each physical object's interaction possibility based on the criteria of inertia, interactivity, outline, texture, and hardness. \n",
    "\n",
    "Inertia: How closely the physical object's inertia matches that of the virtual object.\n",
    "Interactivity: How well the physical object facilitates the specific types of interactions required in the virtual environment (e.g., pressing, rotating, sliding, extending).\n",
    "Outline: The closely the physical shape and size of the contact parts resemble the corresponding parts of the virtual object that users would contact and/or interact with.\n",
    "Texture: How well the surface texture of the contact parts mimics the corresponding parts of the virtual object that users would contact and/or interact with.\n",
    "Hardness: How closely the material stiffness of the contact or flexible parts corresponds to interacting with the virtual object.\n",
    "\n",
    "Rate each criterion for the physical object's interaction possibility on a scale of 1 to 10 points, where 1 indicates poor match and 10 indicates excellent match. \n",
    "\n",
    "Provide a grouped justification for the ratings of each physical object, addressing all criteria collectively for the interaction possibilities associated with the object.\n",
    "\n",
    "Interaction possibilities to be evaluated: \\n\\n{interaction_possibilities}\"\"\"\n",
    "\n",
    "# weighted_average_prompt = \"\"\"You are a weighted average calculator. Please calculate each physical object's weighted average (inertia, interactivity, outline, texture, hardness) with respective criteria weights.\n",
    "# \n",
    "# Criteria weights: {criteria_weights}\n",
    "# \n",
    "# Ratings of physical objects: \\n\\n {ratings}\"\"\"\n"
   ],
   "id": "5cad5262b208f60a",
   "outputs": [],
   "execution_count": 21
  },
  {
   "metadata": {
    "ExecuteTime": {
     "end_time": "2025-01-15T05:46:41.467478Z",
     "start_time": "2025-01-15T05:46:41.436987Z"
    }
   },
   "cell_type": "code",
   "source": [
    "physical_url = \"http://localhost:8000/p1.jpg\"\n",
    "image_data = base64.b64encode(httpx.get(physical_url).content).decode(\"utf-8\")\n",
    "prefab_url = \"http://localhost:8000/f1.jpg\"\n",
    "prefab_data = base64.b64encode(httpx.get(prefab_url).content).decode(\"utf-8\")"
   ],
   "id": "2356a9f1ea9a5021",
   "outputs": [],
   "execution_count": 22
  },
  {
   "metadata": {
    "ExecuteTime": {
     "end_time": "2025-01-15T05:46:41.481512Z",
     "start_time": "2025-01-15T05:46:41.471795Z"
    }
   },
   "cell_type": "code",
   "source": [
    "class Proxy(BaseModel):\n",
    "    name: str = Field(description=\"A clear and concise name or description of the object\")\n",
    "    position: str = Field(description=\"The object's location and relative placement within the image(s)\")\n",
    "    \n",
    "    inertia: Optional[str] = Field(None, description=\"Detailed description of the inertia based on the criteria\")\n",
    "    interactivity: Optional[str] = Field(None, description=\"Detailed description of the interactivity based on the criteria\")\n",
    "    outline: Optional[str] = Field(None, description=\"Detailed description of the outline based on the criteria\")\n",
    "    texture: Optional[str] = Field(None, description=\"Detailed description of the texture based on the criteria\")\n",
    "    hardness: Optional[str] = Field(None, description=\"Detailed description of the hardness based on the criteria\")\n",
    "    \n",
    "    interaction_possibility: Optional[str] = Field(None, description=\"Comprehensive explanation of the most suitable way to utilize this physical object as a haptic proxy for the virtual object\")\n",
    "    \n",
    "    @property\n",
    "    def attribute(self) -> str:\n",
    "        return f\"Haptic Proxy: {self.name}\\nPosition: {self.position}\\nInertia: {self.inertia}\\nInteractivity: {self.interactivity}\\nOutline: {self.outline}\\nTexture: {self.texture}\\nHardness: {self.hardness}\"\n",
    "    \n",
    "    @property\n",
    "    def evaluation(self) -> str:\n",
    "        return f\"Physical Object: {self.name}\\nPosition in Given Picture: {self.position}\\nInteraction Possibility: {self.interaction_possibility}\"\n",
    "    \n",
    "class ProxyCandidates(BaseModel):\n",
    "    proxies: List[Proxy] = Field(description=\"Comprehensive list of physical objects in the given picture\")\n",
    "\n",
    "class EvaluatedCandidate(BaseModel):\n",
    "    name: str = Field(description=\"The name of the physical object\")\n",
    "    position: str = Field(description=\"The relative positions of the physical object in the given picture\")   \n",
    "    interaction_possibility: str = Field(description=\"Comprehensive explanation of the most suitable way to utilize this physical object as a haptic proxy for the virtual object\")\n",
    "    \n",
    "    rating_inertia: int = Field(None, description=\"The rating of inertia on a scale of 1 to 10 points, where 1 indicates poor match and 10 indicates excellent match\")\n",
    "    rating_interactivity: int = Field(None, description=\"The rating of interactivity on a scale of 1 to 10 points, where 1 indicates poor match and 10 indicates excellent match\")\n",
    "    rating_outline: int = Field(None, description=\"The rating of outline on a scale of 1 to 10 points, where 1 indicates poor match and 10 indicates excellent match\")\n",
    "    rating_texture: int = Field(None, description=\"The rating of texture on a scale of 1 to 10 points, where 1 indicates poor match and 10 indicates excellent match\")\n",
    "    rating_hardness: int = Field(None, description=\"The rating of hardness on a scale of 1 to 10 points, where 1 indicates poor match and 10 indicates excellent match\")\n",
    "    justification: str = Field(None, description=\"The justification for the ratings of five criteria\")\n",
    "    \n",
    "    weighted_average: float = Field(None, description=\"The weighted average of all five ratings\")\n",
    "    \n",
    "    @property\n",
    "    def ratings(self) -> str:\n",
    "        return f\"Physical Object: {self.name}\\nPosition in Given Picture: {self.position}\\nInteraction Possibility: {self.interaction_possibility}\\nRating of Inertia: {self.rating_inertia}\\nRating of Interactivity: {self.rating_interactivity}\\nRating of Outline: {self.rating_outline}\\nRating of Texture: {self.rating_texture}\\nRating of Hardness: {self.rating_hardness}\"\n",
    "    \n",
    "class EvaluatedCandidates(BaseModel):\n",
    "    candidates: List[EvaluatedCandidate] = Field(description=\"List of evaluated candidates with rated inertia, interactivity, outline, texture and hardness\")\n",
    "    \n",
    "class TopCandidates(BaseModel):\n",
    "    top_candidates: List[EvaluatedCandidate] = Field(description=\"List of top 3 candidates with highest weighted average\")\n",
    "\n",
    "class Prefab(BaseModel):\n",
    "    interacted_virtual_object: str = Field(description=\"Identify what virtual object the user will grasp and/or interact with to perform the given task\")\n",
    "    contacted_part: str = Field(description=\"Describe which part(s) of the virtual object the user will primarily contact during the interaction\")\n",
    "    involved_interaction: str = Field(description=\"Describe how the virtual object will be interacted by the user.\")\n",
    "    external_force: str = Field(description=\"Describe what types of external forces the user might encounter during the interaction\")\n",
    "    \n",
    "    @property\n",
    "    def review(self) -> str:\n",
    "        return f\"The given task is parsed as follow in terms of what haptic feedback a user should perceive while interacting with the virtual object in virtual reality:\\nVirtual Object: {self.interacted_virtual_object}\\nForm: {self.contacted_part}\\nInteraction: {self.involved_interaction}\\nExternal Forces: {self.external_force}\"\n",
    "    \n",
    "class OverallState(TypedDict):\n",
    "    given_task: str\n",
    "    \n",
    "    involvement: str\n",
    "    transportability: str\n",
    "    reconfiguration: str\n",
    "    \n",
    "    score_inertia: int\n",
    "    score_interaction: int\n",
    "    score_outline: int\n",
    "    score_texture: int\n",
    "    score_hardness: int\n",
    "\n",
    "    proxies: List[Proxy]\n",
    "    proxy_candidates_complete: Annotated[list, operator.add]\n",
    "    prefab: Prefab\n",
    "    weight_dict: dict\n",
    "    evaluated_candidates: List[EvaluatedCandidate]\n",
    "    \n",
    "class InspectState(TypedDict):\n",
    "    target_object: Proxy\n",
    "    given_task: str\n",
    "    prefab: Prefab\n",
    "    proxy_candidates_complete: List[Proxy]\n",
    "    \n",
    "class InspectOutputState(TypedDict):\n",
    "    proxy_candidates_complete: List[Proxy]\n"
   ],
   "id": "a7d121e8abcd4417",
   "outputs": [],
   "execution_count": 23
  },
  {
   "metadata": {
    "ExecuteTime": {
     "end_time": "2025-01-15T05:46:41.498452Z",
     "start_time": "2025-01-15T05:46:41.494240Z"
    }
   },
   "cell_type": "code",
   "source": [
    "def weight_calculator (state: OverallState):\n",
    "    attributes = [\"inertia\", \"interactivity\", \"outline\", \"texture\", \"hardness\"]\n",
    "    ratings = [state[\"score_inertia\"], state[\"score_interaction\"], state[\"score_outline\"], state[\"score_texture\"], state[\"score_hardness\"]]\n",
    "    weights = [rating / sum(ratings) for rating in ratings]\n",
    "    \n",
    "    weighted_attributes = dict(zip(attributes, weights))\n",
    "    return {\"weight_dict\": weighted_attributes}\n",
    "\n",
    "def object_fetcher (state: OverallState):\n",
    "    prompt_system = SystemMessage(content=[object_fetching_prompt])\n",
    "    prompt_human = HumanMessage(content=[\n",
    "        {\n",
    "            \"type\": \"text\",\n",
    "            \"text\": \"image(s) of surrounding objects:\",\n",
    "        },\n",
    "        {\n",
    "            \"type\": \"image_url\",\n",
    "            \"image_url\": {\"url\": f\"data:image/jpeg;base64,{image_data}\"},\n",
    "        }\n",
    "    ])\n",
    "    messages = [prompt_system, prompt_human]\n",
    "    response = proxy_picker_llm.with_structured_output(ProxyCandidates).invoke(messages)\n",
    "    return {\"proxies\": response.proxies} #messages should also be a list : \"messages\": [response]    \n",
    "    \n",
    "def interaction_parser (state: OverallState):\n",
    "    prompt_system = SystemMessage(content=[interaction_parsing_prompt.format(given_task=state[\"given_task\"])])\n",
    "    prompt_human = HumanMessage(content=[\n",
    "        {\n",
    "            \"type\": \"text\",\n",
    "            \"text\": \"image of interacted virtual object:\",\n",
    "        },\n",
    "        {\n",
    "            \"type\": \"image_url\",\n",
    "            \"image_url\": {\"url\": f\"data:image/jpeg;base64,{prefab_data}\"},\n",
    "        }\n",
    "    ])\n",
    "    messages = [prompt_system, prompt_human]\n",
    "    response = proxy_picker_llm.with_structured_output(Prefab).invoke(messages)\n",
    "    return {\"prefab\": response}\n",
    "\n",
    "def candidate_evaluator (state: OverallState):\n",
    "    possibilities = \"\\n\\n\".join(p.evaluation for p in state[\"proxy_candidates_complete\"])\n",
    "    prompt_system = SystemMessage(content=[candidate_evaluation_prompt.format(given_task=state[\"given_task\"], parsed_interaction=state[\"prefab\"].review, interaction_possibilities=possibilities)])\n",
    "    prompt_human = HumanMessage(content=[\n",
    "        {\n",
    "            \"type\": \"text\",\n",
    "            \"text\": \"image(s) of surrounding objects:\",\n",
    "        },\n",
    "        {\n",
    "            \"type\": \"image_url\",\n",
    "            \"image_url\": {\"url\": f\"data:image/jpeg;base64,{image_data}\"},\n",
    "        },\n",
    "        {\n",
    "            \"type\": \"text\",\n",
    "            \"text\": \"image of interacted virtual object:\",\n",
    "        },\n",
    "        {\n",
    "            \"type\": \"image_url\",\n",
    "            \"image_url\": {\"url\": f\"data:image/jpeg;base64,{prefab_data}\"},\n",
    "        }\n",
    "    ])\n",
    "    messages = [prompt_system, prompt_human]\n",
    "    response = proxy_picker_llm.with_structured_output(EvaluatedCandidates).invoke(messages)\n",
    "    return {\"evaluated_candidates\": response.candidates}\n",
    "\n",
    "# def proxy_picker (state: OverallState):\n",
    "#     ratings = \"\\n\\n\".join(r.ratings for r in state[\"evaluated_candidates\"])\n",
    "#     prompt_system = SystemMessage(content=[weighted_average_prompt.format(criteria_weights=state[\"weight_dict\"], ratings=ratings)])\n",
    "#     prompt_human = HumanMessage(content=\"Please return the top 3 candidates with highest total scores. Sort them in descending order of total score.\")\n",
    "#     messages = [prompt_system, prompt_human]\n",
    "#     response = proxy_picker_llm_tools.with_structured_output(TopCandidates).invoke(messages)\n",
    "#     return {\"top_candidates\": response.top_candidates}"
   ],
   "id": "f67fd6084233ab42",
   "outputs": [],
   "execution_count": 24
  },
  {
   "metadata": {
    "ExecuteTime": {
     "end_time": "2025-01-15T05:46:41.516069Z",
     "start_time": "2025-01-15T05:46:41.512964Z"
    }
   },
   "cell_type": "code",
   "source": [
    "def continue_to_attrbute(state: OverallState):\n",
    "    return [Send(\"proxy_inspector\", {\"target_object\": t, \"given_task\": state[\"given_task\"], \"prefab\": state[\"prefab\"]}) for t in state[\"proxies\"]]\n",
    "\n",
    "def attribute_extracter (state: InspectState):\n",
    "    prompt_system = SystemMessage(content=[attribute_extraction_prompt.format(target_object=state[\"target_object\"].name, object_position=state[\"target_object\"].position)])\n",
    "    prompt_human = HumanMessage(content=[\n",
    "        {\n",
    "            \"type\": \"text\",\n",
    "            \"text\": \"image(s) of surrounding objects:\",\n",
    "        },\n",
    "        {\n",
    "            \"type\": \"image_url\",\n",
    "            \"image_url\": {\"url\": f\"data:image/jpeg;base64,{image_data}\"},\n",
    "        }\n",
    "    ])\n",
    "    messages = [prompt_system, prompt_human]\n",
    "    response = proxy_picker_llm.with_structured_output(Proxy).invoke(messages)\n",
    "    return {\"target_object\": response}\n",
    "\n",
    "def interaction_explorer(state: InspectState):\n",
    "    prompt_system = SystemMessage(content=[interaction_exploring_prompt.format(target_object=state[\"target_object\"].name, object_position=state[\"target_object\"].position, given_task=state[\"given_task\"], virtual_object=state[\"prefab\"].interacted_virtual_object, parsed_interaction=state[\"prefab\"].review, extracted_attribute=state[\"target_object\"].attribute)])\n",
    "    prompt_human = HumanMessage(content=[\n",
    "        {\n",
    "            \"type\": \"text\",\n",
    "            \"text\": \"image(s) of surrounding objects:\",\n",
    "        },\n",
    "        {\n",
    "            \"type\": \"image_url\",\n",
    "            \"image_url\": {\"url\": f\"data:image/jpeg;base64,{image_data}\"},\n",
    "        },\n",
    "        {\n",
    "            \"type\": \"text\",\n",
    "            \"text\": \"image of interacted virtual object:\",\n",
    "        },\n",
    "        {\n",
    "            \"type\": \"image_url\",\n",
    "            \"image_url\": {\"url\": f\"data:image/jpeg;base64,{prefab_data}\"},\n",
    "        }\n",
    "    ])\n",
    "    messages = [prompt_system, prompt_human]\n",
    "    response = proxy_picker_llm.with_structured_output(Proxy).invoke(messages)\n",
    "    return {\"proxy_candidates_complete\": [response]}"
   ],
   "id": "413c70d70de03dfc",
   "outputs": [],
   "execution_count": 25
  },
  {
   "metadata": {
    "ExecuteTime": {
     "end_time": "2025-01-15T05:46:42.801904Z",
     "start_time": "2025-01-15T05:46:41.520490Z"
    }
   },
   "cell_type": "code",
   "source": [
    "builder = StateGraph(input=InspectState, output=InspectOutputState)\n",
    "builder.add_node(\"attribute_extracter\", attribute_extracter)\n",
    "builder.add_node(\"interaction_explorer\", interaction_explorer)\n",
    "\n",
    "builder.add_edge(START, \"attribute_extracter\")\n",
    "builder.add_edge(\"attribute_extracter\", \"interaction_explorer\")\n",
    "builder.add_edge(\"interaction_explorer\", END)\n",
    "\n",
    "proxy_inspector = builder.compile()\n",
    "Image(proxy_inspector.get_graph().draw_mermaid_png())"
   ],
   "id": "2216100f464663c7",
   "outputs": [
    {
     "name": "stderr",
     "output_type": "stream",
     "text": [
      "/var/folders/dm/mwc26gqj5kvbzk2nffzh__5m0000gn/T/ipykernel_55434/244596100.py:1: LangGraphDeprecationWarning: Initializing StateGraph without state_schema is deprecated. Please pass in an explicit state_schema instead of just an input and output schema.\n",
      "  builder = StateGraph(input=InspectState, output=InspectOutputState)\n"
     ]
    },
    {
     "data": {
      "image/png": "[encoded data removed]",
      "text/plain": [
       "<IPython.core.display.Image object>"
      ]
     },
     "execution_count": 26,
     "metadata": {},
     "output_type": "execute_result"
    }
   ],
   "execution_count": 26
  },
  {
   "metadata": {
    "ExecuteTime": {
     "end_time": "2025-01-15T05:46:44.004453Z",
     "start_time": "2025-01-15T05:46:42.809475Z"
    }
   },
   "cell_type": "code",
   "source": [
    "graph = StateGraph(OverallState)\n",
    "graph.add_node(\"weight_calculator\", weight_calculator)\n",
    "graph.add_node(\"interaction_parser\", interaction_parser)\n",
    "graph.add_node(\"object_fetcher\", object_fetcher)\n",
    "graph.add_node(\"proxy_inspector\", proxy_inspector)\n",
    "graph.add_node(\"candidate_evaluator\", candidate_evaluator)\n",
    "# graph.add_node(\"proxy_picker\", proxy_picker)\n",
    "# graph.add_node(\"tools\", ToolNode(tools))\n",
    "\n",
    "graph.add_edge(START, \"interaction_parser\")\n",
    "graph.add_edge(START, \"weight_calculator\")\n",
    "graph.add_edge(\"interaction_parser\", \"object_fetcher\")\n",
    "graph.add_conditional_edges(\"object_fetcher\", continue_to_attrbute, [\"proxy_inspector\"])\n",
    "graph.add_edge([\"proxy_inspector\", \"weight_calculator\"], \"candidate_evaluator\")\n",
    "graph.add_edge(\"candidate_evaluator\", END)\n",
    "# graph.add_edge(\"candidate_evaluator\", \"proxy_picker\")\n",
    "# graph.add_conditional_edges(\"proxy_picker\", tools_condition,)\n",
    "# graph.add_edge(\"tools\", \"proxy_picker\")\n",
    "\n",
    "proxy_picker = graph.compile()\n",
    "display(Image(proxy_picker.get_graph(xray=1).draw_mermaid_png()))\n",
    "# Image(proxy_picker.get_graph()(xray=1).draw_mermaid_png())"
   ],
   "id": "261c6793723f937c",
   "outputs": [
    {
     "data": {
      "image/png": "[encoded data removed]",
      "text/plain": [
       "<IPython.core.display.Image object>"
      ]
     },
     "metadata": {},
     "output_type": "display_data"
    }
   ],
   "execution_count": 27
  },
  {
   "metadata": {
    "ExecuteTime": {
     "end_time": "2025-01-15T05:47:13.031011Z",
     "start_time": "2025-01-15T05:46:44.020758Z"
    }
   },
   "cell_type": "code",
   "source": [
    "for s in proxy_picker.stream({\"given_task\": \"scrutinise using binoculars\", \"involvement\": \"grasp\", \"transportability\": \"stationary\", \"reconfiguration\": \"rigid\", \"score_inertia\": 3, \"score_interaction\": 0, \"score_outline\": 5, \"score_texture\": 3, \"score_hardness\": 2}, stream_mode=\"values\"):\n",
    "    # print(s)\n",
    "    weight_dict = s.get('weight_dict', '')\n",
    "    evaluated_candidates = s.get('evaluated_candidates', '')\n",
    "    if evaluated_candidates and weight_dict:\n",
    "        for evaluated_candidate in evaluated_candidates:\n",
    "            evaluated_candidate.weighted_average = (\n",
    "                evaluated_candidate.rating_inertia * weight_dict[\"inertia\"] + \n",
    "                evaluated_candidate.rating_interactivity * weight_dict[\"interactivity\"] +\n",
    "                evaluated_candidate.rating_outline * weight_dict[\"outline\"] + \n",
    "                evaluated_candidate.rating_texture * weight_dict[\"texture\"] +\n",
    "                evaluated_candidate.rating_hardness * weight_dict[\"hardness\"]\n",
    "            )\n",
    "\n",
    "        sorted_candidates = sorted(\n",
    "            evaluated_candidates, key=lambda candidate: candidate.weighted_average, reverse=True\n",
    "        )\n",
    "\n",
    "        print(sorted_candidates[:3])"
   ],
   "id": "a2d37780f7ff9295",
   "outputs": [
    {
     "name": "stdout",
     "output_type": "stream",
     "text": [
      "[EvaluatedCandidate(name='controller', position='bottom left', interaction_possibility=\"The controller is the best match as it can be held in both hands, has a similar weight and hardness, and its shape somewhat resembles the binoculars' grip.\", rating_inertia=8, rating_interactivity=7, rating_outline=8, rating_texture=6, rating_hardness=7, justification=None, weighted_average=7.384615384615385), EvaluatedCandidate(name='headphones', position='top left', interaction_possibility=\"The headphones can be held in both hands to simulate the binoculars' grip, but the lack of a central hinge and the bulkier ear cups make it less ideal.\", rating_inertia=6, rating_interactivity=3, rating_outline=5, rating_texture=7, rating_hardness=6, justification=None, weighted_average=5.846153846153847), EvaluatedCandidate(name='duck lamp', position='middle right', interaction_possibility=\"The duck lamp is too bulky and does not replicate the binoculars' dual-hand interaction or shape.\", rating_inertia=5, rating_interactivity=2, rating_outline=4, rating_texture=7, rating_hardness=4, justification=None, weighted_average=4.923076923076923)]\n"
     ]
    }
   ],
   "execution_count": 28
  },
  {
   "metadata": {
    "ExecuteTime": {
     "end_time": "2025-01-15T05:47:13.097238Z",
     "start_time": "2025-01-15T05:47:13.095676Z"
    }
   },
   "cell_type": "code",
   "source": "# proxy_picker_llm.invoke(\"Hi\")",
   "id": "65d889b696f66d06",
   "outputs": [],
   "execution_count": 29
  },
  {
   "metadata": {
    "ExecuteTime": {
     "end_time": "2025-01-15T05:47:13.116536Z",
     "start_time": "2025-01-15T05:47:13.114720Z"
    }
   },
   "cell_type": "code",
   "source": [
    "# for event in proxy_picker.stream({\"given_task\": \"scrutinise using binoculars\", \"involvement\": \"grasp\", \"transportability\": \"stationary\", \"reconfiguration\": \"rigid\", \"score_inertia\": 3, \"score_interaction\": 0, \"score_outline\": 5, \"score_texture\": 3, \"score_hardness\": 2}): #stream_mode=\"values\"\n",
    "#     # weight_dict = event.get('weight_dict', '')\n",
    "#     # evaluated_candidates = event.get('evaluated_candidates', '')\n",
    "#     print(event)\n",
    "#     # print(\"dict:\" + str(weight_dict))\n",
    "#     # print(evaluated_candidates)\n",
    "#     # if evaluated_candidates and weight_dict:\n",
    "#     #     for evaluated_candidate in evaluated_candidates:\n",
    "#     #         evaluated_candidate.weighted_average = (\n",
    "#     #             evaluated_candidate.rating_inertia * weight_dict[\"inertia\"] + \n",
    "#     #             evaluated_candidate.rating_interactivity * weight_dict[\"interactivity\"] +\n",
    "#     #             evaluated_candidate.rating_outline * weight_dict[\"outline\"] + \n",
    "#     #             evaluated_candidate.rating_texture * weight_dict[\"texture\"] +\n",
    "#     #             evaluated_candidate.rating_hardness * weight_dict[\"hardness\"]\n",
    "#     #         )\n",
    "#     # \n",
    "#     #     sorted_candidates = sorted(\n",
    "#     #         evaluated_candidates, key=lambda candidate: candidate.weighted_average, reverse=True\n",
    "#     #     )\n",
    "#     # \n",
    "#     #     print(sorted_candidates[:3])"
   ],
   "id": "bd5318020ee9a73a",
   "outputs": [],
   "execution_count": 30
  },
  {
   "metadata": {
    "ExecuteTime": {
     "end_time": "2025-01-15T05:47:13.125957Z",
     "start_time": "2025-01-15T05:47:13.124752Z"
    }
   },
   "cell_type": "code",
   "source": "",
   "id": "722ffc14f5c3d5f7",
   "outputs": [],
   "execution_count": null
  }
 ],
 "metadata": {
  "kernelspec": {
   "display_name": "Python 3 (ipykernel)",
   "language": "python",
   "name": "python3"
  },
  "language_info": {
   "codemirror_mode": {
    "name": "ipython",
    "version": 3
   },
   "file_extension": ".py",
   "mimetype": "text/x-python",
   "name": "python",
   "nbconvert_exporter": "python",
   "pygments_lexer": "ipython3",
   "version": "3.11.5"
  }
 },
 "nbformat": 4,
 "nbformat_minor": 5
}
